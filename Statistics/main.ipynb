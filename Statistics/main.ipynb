{
 "cells": [
  {
   "cell_type": "markdown",
   "metadata": {},
   "source": [
    "# Statistics\n",
    "Final goal is to understand the data and make some decision\n",
    "### What is Statistics and its Application\n",
    "Statistics is a field that deals with collection, organization, analysis, interpretation and presentation of the data.\n",
    "We need these data with statistics to make some decision.This decision is known as Statistical decision.\n",
    "### Statistics -> Decision making -> Grow business\n",
    "We will be able to create some charts and graph using these data which will help us in decision making.\n",
    "EX: suppose age=[24,38,48,27,23,49,37] from some online shopping platform we got this age data, now we want to provide some offers to users based on some conditions so to make some decision based on condition we first need to analyze the data\n",
    "\n",
    "In every domain and field, statistics is getting used."
   ]
  },
  {
   "cell_type": "markdown",
   "metadata": {},
   "source": [
    "### Types of Statistics\n",
    "There are two different types of Statistics:\n",
    "### 1. Descriptive Statistics\n",
    "It consists of organizing and summarizing of data. Basic techniques that are used to perform descriptive statistics are:\n",
    "- Measure of Central Tendency\n",
    "    -- mean, median, mode\n",
    "- Measure of Dispersion\n",
    "    -- Variance, Standard Deviation\n",
    "### 2. Inferential Statistics\n",
    "From the collected sample data, we will be able to make some conclusion or inferences using some experiments like z-test, t-test and many more. The conclusion we made for some other data that data is called population data. Size of population data will greater than the size of sample data.\n",
    "\n",
    "EX- There is a college of 1000 students, and suppose we have sample data of 10 students height as h=[180cm, 176cm, 156cm, 179cm, 166cm,....]\n",
    "- In descriptive, we can find out central tendency of the sample data\n",
    "- In inferential, using sample data, we will find out the conclusion for population data which is 1000 students "
   ]
  }
 ],
 "metadata": {
  "language_info": {
   "name": "python"
  }
 },
 "nbformat": 4,
 "nbformat_minor": 2
}
