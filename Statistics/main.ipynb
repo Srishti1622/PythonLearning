{
 "cells": [
  {
   "cell_type": "markdown",
   "metadata": {},
   "source": [
    "# Statistics\n",
    "Final goal is to understand the data and make some decision\n",
    "### What is Statistics and its Application\n",
    "Statistics is a field that deals with collection, organization, analysis, interpretation and presentation of the data.\n",
    "We need these data with statistics to make some decision.This decision is known as Statistical decision.\n",
    "### Statistics -> Decision making -> Grow business\n",
    "We will be able to create some charts and graph using these data which will help us in decision making.\n",
    "EX: suppose age=[24,38,48,27,23,49,37] from some online shopping platform we got this age data, now we want to provide some offers to users based on some conditions so to make some decision based on condition we first need to analyze the data\n",
    "\n",
    "In every domain and field, statistics is getting used."
   ]
  }
 ],
 "metadata": {
  "language_info": {
   "name": "python"
  }
 },
 "nbformat": 4,
 "nbformat_minor": 2
}
