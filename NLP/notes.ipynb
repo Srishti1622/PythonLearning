{
 "cells": [
  {
   "cell_type": "markdown",
   "metadata": {},
   "source": [
    "#### NLP in real life\n",
    "- auto complete statements\n",
    "- spam filter mails\n",
    "- language translator\n",
    "- customer service chatbots ( using intent recognition)\n",
    "- voice assistants (alexa, google assistant)\n",
    "- google search ( using BERT )\n",
    "- automated news generation"
   ]
  },
  {
   "cell_type": "markdown",
   "metadata": {},
   "source": [
    "### NLP ( Natural Language Processing )\n",
    "NLP is a field in computer science and AI that gives machines an ability to understand human language better and to assist in language related tasks"
   ]
  }
 ],
 "metadata": {
  "language_info": {
   "name": "python"
  }
 },
 "nbformat": 4,
 "nbformat_minor": 2
}
