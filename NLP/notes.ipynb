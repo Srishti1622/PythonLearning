{
 "cells": [
  {
   "cell_type": "markdown",
   "metadata": {},
   "source": [
    "#### NLP in real life\n",
    "- auto complete statements\n",
    "- spam filter mails\n",
    "- language translator\n",
    "- customer service chatbots ( using intent recognition)\n",
    "- voice assistants (alexa, google assistant)\n",
    "- google search ( using BERT )\n",
    "- automated news generation"
   ]
  },
  {
   "cell_type": "markdown",
   "metadata": {},
   "source": [
    "### NLP ( Natural Language Processing )\n",
    "NLP is a field in computer science and AI that gives machines an ability to understand human language better and to assist in language related tasks"
   ]
  },
  {
   "cell_type": "markdown",
   "metadata": {},
   "source": [
    "https://regex101.com/"
   ]
  },
  {
   "cell_type": "markdown",
   "metadata": {},
   "source": [
    "Code to match phone numbers"
   ]
  },
  {
   "cell_type": "code",
   "execution_count": 6,
   "metadata": {},
   "outputs": [
    {
     "name": "stderr",
     "output_type": "stream",
     "text": [
      "<>:7: SyntaxWarning: invalid escape sequence '\\d'\n",
      "<>:8: SyntaxWarning: invalid escape sequence '\\.'\n",
      "<>:7: SyntaxWarning: invalid escape sequence '\\d'\n",
      "<>:8: SyntaxWarning: invalid escape sequence '\\.'\n",
      "C:\\Users\\srish\\AppData\\Local\\Temp\\ipykernel_20272\\402866619.py:7: SyntaxWarning: invalid escape sequence '\\d'\n",
      "  phone_pattern='\\d{10}|\\(\\d{3}\\)-\\d{3}-\\d{4}'\n",
      "C:\\Users\\srish\\AppData\\Local\\Temp\\ipykernel_20272\\402866619.py:8: SyntaxWarning: invalid escape sequence '\\.'\n",
      "  email_pattern='[a-z0-9A-Z_]*@[a-z0-9A-Z]*\\.[a-zA-Z]*'\n"
     ]
    }
   ],
   "source": [
    "import re \n",
    "\n",
    "chat1='you ask lot of questions 1234567891, abs@xyz.com, another number 1234123444'\n",
    "chat2='here it is : (123)-345-4567, hsdis_su@jhsdo.com'\n",
    "chat3='yes, phone: 6789678988 and email id: testin23@ush.com'\n",
    "\n",
    "phone_pattern='\\d{10}|\\(\\d{3}\\)-\\d{3}-\\d{4}'\n",
    "email_pattern='[a-z0-9A-Z_]*@[a-z0-9A-Z]*\\.[a-zA-Z]*'"
   ]
  },
  {
   "cell_type": "code",
   "execution_count": 7,
   "metadata": {},
   "outputs": [
    {
     "data": {
      "text/plain": [
       "['1234567891', '1234123444']"
      ]
     },
     "execution_count": 7,
     "metadata": {},
     "output_type": "execute_result"
    }
   ],
   "source": [
    "matches_phone=re.findall(phone_pattern, chat1)\n",
    "matches_phone"
   ]
  },
  {
   "cell_type": "code",
   "execution_count": 10,
   "metadata": {},
   "outputs": [
    {
     "data": {
      "text/plain": [
       "['testin23@ush.com']"
      ]
     },
     "execution_count": 10,
     "metadata": {},
     "output_type": "execute_result"
    }
   ],
   "source": [
    "matches_email=re.findall(email_pattern, chat3)\n",
    "matches_email"
   ]
  }
 ],
 "metadata": {
  "kernelspec": {
   "display_name": "base",
   "language": "python",
   "name": "python3"
  },
  "language_info": {
   "codemirror_mode": {
    "name": "ipython",
    "version": 3
   },
   "file_extension": ".py",
   "mimetype": "text/x-python",
   "name": "python",
   "nbconvert_exporter": "python",
   "pygments_lexer": "ipython3",
   "version": "3.12.4"
  }
 },
 "nbformat": 4,
 "nbformat_minor": 2
}
