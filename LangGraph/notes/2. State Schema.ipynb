{
 "cells": [
  {
   "cell_type": "markdown",
   "id": "2ece0919",
   "metadata": {},
   "source": [
    "### 3 Ways of creating State Schema\n",
    "- **TypedDict:** *from typing_extensions import TypedDict*\n",
    "- **Dataclass:** *from dataclasses import dataclass*\n",
    "- **Pydantic** *from pydantic import BaseModel*"
   ]
  },
  {
   "cell_type": "markdown",
   "id": "b87c06a2",
   "metadata": {},
   "source": [
    "#### TypedDict\n",
    "- Using TypedDict, will be not having data validation at runtime\n",
    "- We need to provide the key-value pair when invoking the graph\n",
    "- Also, providing all the variable values each time or while invoking is not mandatory"
   ]
  },
  {
   "cell_type": "code",
   "execution_count": 1,
   "id": "2a5c1624",
   "metadata": {},
   "outputs": [],
   "source": [
    "from typing_extensions import TypedDict\n",
    "from typing import Literal\n",
    "\n",
    "class TypedDictState(TypedDict):\n",
    "    name:str\n",
    "    game:Literal['cricket','badminton']"
   ]
  },
  {
   "cell_type": "code",
   "execution_count": 4,
   "id": "caf0e001",
   "metadata": {},
   "outputs": [],
   "source": [
    "def play_game(state:TypedDictState):\n",
    "    print(\"play game node called\")\n",
    "    return {\"name\":state['name']}\n",
    "\n",
    "def cricket(state:TypedDictState):\n",
    "    print('cricket node is called')\n",
    "    return {'game':'cricket'}\n",
    "\n",
    "def badminton(state:TypedDictState):\n",
    "    print('badminton node is called')\n",
    "    return {'game':'badminton'}\n",
    "\n",
    "import random\n",
    "def decide_game(state:TypedDictState)->Literal['cricket','badminton']:\n",
    "    if random.random()<0.5:\n",
    "        return 'cricket'\n",
    "    else:\n",
    "        return 'badminton'"
   ]
  },
  {
   "cell_type": "code",
   "execution_count": 5,
   "id": "fd920527",
   "metadata": {},
   "outputs": [
    {
     "data": {
      "image/png": "[encoded data removed]",
      "text/plain": [
       "<IPython.core.display.Image object>"
      ]
     },
     "metadata": {},
     "output_type": "display_data"
    }
   ],
   "source": [
    "from langgraph.graph import StateGraph,START,END\n",
    "from IPython.display import Image, display\n",
    "\n",
    "graph=StateGraph(TypedDictState)\n",
    "graph.add_node('play_game',play_game)\n",
    "graph.add_node('cricket',cricket)\n",
    "graph.add_node('badminton',badminton)\n",
    "graph.add_edge(START,'play_game')\n",
    "graph.add_conditional_edges('play_game',decide_game)\n",
    "graph.add_edge('cricket',END)\n",
    "graph.add_edge('badminton',END)\n",
    "\n",
    "graph_builder=graph.compile()\n",
    "\n",
    "display(Image(graph_builder.get_graph().draw_mermaid_png()))"
   ]
  },
  {
   "cell_type": "code",
   "execution_count": 6,
   "id": "4fb0c159",
   "metadata": {},
   "outputs": [
    {
     "name": "stdout",
     "output_type": "stream",
     "text": [
      "play game node called\n",
      "badminton node is called\n"
     ]
    },
    {
     "data": {
      "text/plain": [
       "{'name': 'srishti', 'game': 'badminton'}"
      ]
     },
     "execution_count": 6,
     "metadata": {},
     "output_type": "execute_result"
    }
   ],
   "source": [
    "graph_builder.invoke({'name':'srishti'})"
   ]
  },
  {
   "cell_type": "markdown",
   "id": "9496ecdd",
   "metadata": {},
   "source": [
    "so here we can see that name is of str type but still we are not getting any error when passed int in name"
   ]
  },
  {
   "cell_type": "code",
   "execution_count": 8,
   "id": "f3d7f6b1",
   "metadata": {},
   "outputs": [
    {
     "name": "stdout",
     "output_type": "stream",
     "text": [
      "play game node called\n",
      "cricket node is called\n"
     ]
    },
    {
     "data": {
      "text/plain": [
       "{'name': 7392, 'game': 'cricket'}"
      ]
     },
     "execution_count": 8,
     "metadata": {},
     "output_type": "execute_result"
    }
   ],
   "source": [
    "graph_builder.invoke({'name':7392})"
   ]
  },
  {
   "cell_type": "markdown",
   "id": "07144b47",
   "metadata": {},
   "source": [
    "#### Dataclass\n",
    "- We apply a decorator of dataclass as @dataclass\n",
    "- Similar as TypedDict, this also is not enforced at runtime means not do data validation of type\n",
    "- Way of accessing the variable from state object and passing the value while invoking the graph is different by TypedDict\n",
    "- While invoking we need to provide all the variable values\n",
    "- Python's dataclasses provide another way to define structured data\n",
    "- Dataclasses offer a concise syntax for creating classes that are primarily used to store data"
   ]
  },
  {
   "cell_type": "code",
   "execution_count": 9,
   "id": "7ed1d0ae",
   "metadata": {},
   "outputs": [],
   "source": [
    "from dataclasses import dataclass\n",
    "from typing import Literal\n",
    "\n",
    "@dataclass\n",
    "class DataClassState:\n",
    "    name:str\n",
    "    game:Literal['cricket','badminton']"
   ]
  },
  {
   "cell_type": "code",
   "execution_count": 10,
   "id": "64554401",
   "metadata": {},
   "outputs": [],
   "source": [
    "def play_game(state:DataClassState):\n",
    "    print(\"play game node called\")\n",
    "    return {\"name\":state.name}  # access way changes from TypedDict\n",
    "\n",
    "def cricket(state:DataClassState):\n",
    "    print('cricket node is called')\n",
    "    return {'game':'cricket'}\n",
    "\n",
    "def badminton(state:DataClassState):\n",
    "    print('badminton node is called')\n",
    "    return {'game':'badminton'}\n",
    "\n",
    "import random\n",
    "def decide_game(state:DataClassState)->Literal['cricket','badminton']:\n",
    "    if random.random()<0.5:\n",
    "        return 'cricket'\n",
    "    else:\n",
    "        return 'badminton'"
   ]
  },
  {
   "cell_type": "code",
   "execution_count": 11,
   "id": "f8b7ca7a",
   "metadata": {},
   "outputs": [
    {
     "data": {
      "image/png": "[encoded data removed]",
      "text/plain": [
       "<IPython.core.display.Image object>"
      ]
     },
     "metadata": {},
     "output_type": "display_data"
    }
   ],
   "source": [
    "from langgraph.graph import StateGraph,START,END\n",
    "from IPython.display import Image, display\n",
    "\n",
    "graph=StateGraph(DataClassState)\n",
    "graph.add_node('play_game',play_game)\n",
    "graph.add_node('cricket',cricket)\n",
    "graph.add_node('badminton',badminton)\n",
    "graph.add_edge(START,'play_game')\n",
    "graph.add_conditional_edges('play_game',decide_game)\n",
    "graph.add_edge('cricket',END)\n",
    "graph.add_edge('badminton',END)\n",
    "\n",
    "graph_builder=graph.compile()\n",
    "\n",
    "display(Image(graph_builder.get_graph().draw_mermaid_png()))"
   ]
  },
  {
   "cell_type": "code",
   "execution_count": 15,
   "id": "8a3a1048",
   "metadata": {},
   "outputs": [
    {
     "name": "stdout",
     "output_type": "stream",
     "text": [
      "play game node called\n",
      "badminton node is called\n"
     ]
    },
    {
     "data": {
      "text/plain": [
       "{'name': 'srishti', 'game': 'badminton'}"
      ]
     },
     "execution_count": 15,
     "metadata": {},
     "output_type": "execute_result"
    }
   ],
   "source": [
    "# graph_builder.invoke(DataClassState(name='srishti'))\n",
    "graph_builder.invoke(DataClassState(name='srishti',game='badminton'))"
   ]
  },
  {
   "cell_type": "markdown",
   "id": "d54a8aee",
   "metadata": {},
   "source": [
    "so here also same as TypedDict, it will not validate the datatype and not give error. But, if we not provide all the variable present in state class while invoking, it will give error"
   ]
  },
  {
   "cell_type": "code",
   "execution_count": 13,
   "id": "a707296e",
   "metadata": {},
   "outputs": [
    {
     "name": "stdout",
     "output_type": "stream",
     "text": [
      "play game node called\n",
      "badminton node is called\n"
     ]
    },
    {
     "data": {
      "text/plain": [
       "{'name': 3792, 'game': 'badminton'}"
      ]
     },
     "execution_count": 13,
     "metadata": {},
     "output_type": "execute_result"
    }
   ],
   "source": [
    "graph_builder.invoke(DataClassState(name=3792,game='cricket'))"
   ]
  },
  {
   "cell_type": "markdown",
   "id": "3467b4d9",
   "metadata": {},
   "source": [
    "#### Pydantic - Data Validation Library\n",
    "- Pydantic supports validation of many standard library types including dataclass and TypedDict\n",
    "- During runtime, it will check the datatype and do data validation, throw error if validation fails\n",
    "- Pydantic's core validation logic is written in Rust, as a result it become fastest data validation library for python\n",
    "- We can also create complex nested models using pydantic"
   ]
  },
  {
   "cell_type": "code",
   "execution_count": 11,
   "id": "b5332a82",
   "metadata": {},
   "outputs": [],
   "source": [
    "from pydantic import BaseModel, Field\n",
    "from typing import Optional, List\n",
    "\n",
    "class PydanticState(BaseModel):\n",
    "    name:str\n",
    "    # age: Optional[int]=20 # optional with default value \n",
    "    # hobbies: List[str]\n",
    "    # price:float= Field(gt=0,le=1000) # greater than 0, less than or equal to 1000"
   ]
  },
  {
   "cell_type": "code",
   "execution_count": 21,
   "id": "29ae5389",
   "metadata": {},
   "outputs": [],
   "source": [
    "def chatbot(state:PydanticState):\n",
    "    print('chatbot node is called')\n",
    "    return {'name':\"state['name']\"}"
   ]
  },
  {
   "cell_type": "code",
   "execution_count": 22,
   "id": "1f3b25ef",
   "metadata": {},
   "outputs": [
    {
     "data": {
      "image/png": "[encoded data removed]",
      "text/plain": [
       "<IPython.core.display.Image object>"
      ]
     },
     "metadata": {},
     "output_type": "display_data"
    }
   ],
   "source": [
    "from langgraph.graph import StateGraph,START,END\n",
    "from IPython.display import display,Image\n",
    "\n",
    "graph=StateGraph(PydanticState)\n",
    "graph.add_node('chatbot',chatbot)\n",
    "graph.add_edge(START,'chatbot')\n",
    "graph.add_edge('chatbot',END)\n",
    "\n",
    "graph_builder=graph.compile()\n",
    "\n",
    "display(Image(graph_builder.get_graph().draw_mermaid_png()))"
   ]
  },
  {
   "cell_type": "code",
   "execution_count": 23,
   "id": "023a0895",
   "metadata": {},
   "outputs": [
    {
     "name": "stdout",
     "output_type": "stream",
     "text": [
      "chatbot node is called\n"
     ]
    },
    {
     "data": {
      "text/plain": [
       "{'name': \"state['name']\"}"
      ]
     },
     "execution_count": 23,
     "metadata": {},
     "output_type": "execute_result"
    }
   ],
   "source": [
    "graph_builder.invoke({'name':\"srishti\"})"
   ]
  },
  {
   "cell_type": "markdown",
   "id": "58400ea4",
   "metadata": {},
   "source": [
    "as data validation is applied so below line throws ValidationError as name is of str type"
   ]
  },
  {
   "cell_type": "code",
   "execution_count": null,
   "id": "40619846",
   "metadata": {},
   "outputs": [],
   "source": [
    "graph_builder.invoke({'name':389})"
   ]
  }
 ],
 "metadata": {
  "kernelspec": {
   "display_name": "p1env",
   "language": "python",
   "name": "python3"
  },
  "language_info": {
   "codemirror_mode": {
    "name": "ipython",
    "version": 3
   },
   "file_extension": ".py",
   "mimetype": "text/x-python",
   "name": "python",
   "nbconvert_exporter": "python",
   "pygments_lexer": "ipython3",
   "version": "3.13.2"
  }
 },
 "nbformat": 4,
 "nbformat_minor": 5
}
