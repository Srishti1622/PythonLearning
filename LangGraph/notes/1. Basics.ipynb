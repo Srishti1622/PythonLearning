{
 "cells": [
  {
   "cell_type": "markdown",
   "id": "b8fbe137",
   "metadata": {},
   "source": [
    "## Agentic AI vs AI Agents\n",
    "AI Agents\n",
    "- \"AI Agents\" refers to individual software programs designed to perform specific tasks with a degree of autonomy (means without human intervetion)\n",
    "- Functionality: AI agents handles specific tasks, limited autonomy\n",
    "- Decision Making: follow predefined rules\n",
    "- Example: customer service chatbot like automated banking bot which answer basic questions based on predefined knowledge like balance inquires, transactions\n",
    "\n",
    "Agentic AI (LLM -> brain of Agentic AI)\n",
    "- \"Agentic AI\" describes a broader framework where multiple AI agents can collaborate and make decisions independently to achieve a larger goal, emphasizing adaptability and learning from experience rather than just following predefined rules. (solve more complex workflows without human intervention)\n",
    "- Functionality: Agentic AI focuses on the overall system with the ability to learn, adapt and make complex decision\n",
    "- Decision Making: work on autonomous decision based on real time data and circumstances (make decison by own)\n",
    "- Example: Smart home system having control of light, temperature, applicanes to have goal to reduce electricity, personalized health assistant system which analyze a patient's medical history, real-time health data, and even lifestyle factors to provide personalized care recommendations. Their ability to adapt to new mediacl research and patient feedback illustrates the higher flexibility and complexity of agentic AI\n",
    "- Preception (gather the data from surrounding) -> Reasoning (Understand what is going on) -> Action (take a specific action) -> Learning (it improve and adapt over time)"
   ]
  },
  {
   "cell_type": "markdown",
   "id": "06fdf73f",
   "metadata": {},
   "source": [
    "## LangGraph\n",
    "- LangGraph is a library for building **stateful, multi-actor applications with LLMs, used to create agent and multi-agent workflows**\n",
    "- LangGraph is **DAG (Directed Acyclic Graph)** which follows sequential flow of information\n",
    "- LangGraph is inspried by Pregel and Apache Beam. the public interface draws inspiration from NetworkX. \n",
    "- LangGraph is built by Langchain Inc, the creators of Langchain, but can be used without Langchain.\n",
    "- LangGraph provides **fine-grained control over both the flow and state of your agent applications**\n",
    "- It implements a central persistence layer, enabling features that are common to most agent architectures.\n",
    "- **Memory:** LangGraph persists arbitrary aspects of your application's state, supporting memory of conversations and other updates within and across user interactions.\n",
    "- **Human-in-the-loop:** because state is checkpointed, execution can be interrupted and resumed, allowing for decision, validation and corrections at key stages via human input."
   ]
  },
  {
   "cell_type": "code",
   "execution_count": null,
   "id": "8d7ce79b",
   "metadata": {},
   "outputs": [],
   "source": []
  }
 ],
 "metadata": {
  "kernelspec": {
   "display_name": "p1env",
   "language": "python",
   "name": "python3"
  },
  "language_info": {
   "codemirror_mode": {
    "name": "ipython",
    "version": 3
   },
   "file_extension": ".py",
   "mimetype": "text/x-python",
   "name": "python",
   "nbconvert_exporter": "python",
   "pygments_lexer": "ipython3",
   "version": "3.13.2"
  }
 },
 "nbformat": 4,
 "nbformat_minor": 5
}
