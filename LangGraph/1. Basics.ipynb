{
 "cells": [
  {
   "cell_type": "markdown",
   "id": "b8fbe137",
   "metadata": {},
   "source": [
    "## Agentic AI vs AI Agents\n",
    "AI Agents\n",
    "- \"AI Agents\" refers to individual software programs designed to perform specific tasks with a degree of autonomy (means without human intervetion)\n",
    "- Functionality: AI agents handles specific tasks, limited autonomy\n",
    "- Decision Making: follow predefined rules\n",
    "- Example: customer service chatbot like automated banking bot which answer basic questions based on predefined knowledge like balance inquires, transactions\n",
    "\n",
    "Agentic AI (LLM -> brain of Agentic AI)\n",
    "- \"Agentic AI\" describes a broader framework where multiple AI agents can collaborate and make decisions independently to achieve a larger goal, emphasizing adaptability and learning from experience rather than just following predefined rules. (solve more complex workflows without human intervention)\n",
    "- Functionality: Agentic AI focuses on the overall system with the ability to learn, adapt and make complex decision\n",
    "- Decision Making: work on autonomous decision based on real time data and circumstances (make decison by own)\n",
    "- Example: Smart home system having control of light, temperature, applicanes to have goal to reduce electricity, personalized health assistant system which analyze a patient's medical history, real-time health data, and even lifestyle factors to provide personalized care recommendations. Their ability to adapt to new mediacl research and patient feedback illustrates the higher flexibility and complexity of agentic AI\n",
    "- Preception (gather the data from surrounding) -> Reasoning (Understand what is going on) -> Action (take a specific action) -> Learning (it improve and adapt over time)"
   ]
  }
 ],
 "metadata": {
  "language_info": {
   "name": "python"
  }
 },
 "nbformat": 4,
 "nbformat_minor": 5
}
