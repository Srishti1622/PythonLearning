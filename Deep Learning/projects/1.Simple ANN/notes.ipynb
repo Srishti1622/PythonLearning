{
 "cells": [
  {
   "cell_type": "markdown",
   "metadata": {},
   "source": [
    "### Determining the optimal number of hidden layers and neurons for an Artificial Neural Network (ANN)\n",
    "This can be challenging and often requires experimentation. However, there are some guidelines and methods that can help you in making an informed decision:\n",
    "- Start Simple: Begin with a simple architecture and gradually increase complexity if needed\n",
    "- Grid Search/Random Search: Use grid search or random search to try different architectures\n",
    "- Cross-Validation: Use cross-validation to evaluate the performance of different architectures\n",
    "- Heuistics and Rules of Thumb: Some heuristics and empirical rules can provide starting points, such as :\n",
    "    - The number of neurons in the hidden layer should be between the size of the input layer and the size of output layer\n",
    "    - A common practice is to start with 1-2 hidden layers"
   ]
  }
 ],
 "metadata": {
  "language_info": {
   "name": "python"
  }
 },
 "nbformat": 4,
 "nbformat_minor": 2
}
