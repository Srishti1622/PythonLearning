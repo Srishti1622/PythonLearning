{
 "cells": [
  {
   "cell_type": "markdown",
   "metadata": {},
   "source": [
    "### End to End DL project using Simple RNN\n",
    "\n",
    "**Problem Statement**\n",
    "\n",
    "Develop a simple RNN model to predict whether a movie review is positive or negative using IMDB dataset. The model should process the review text, learn sequential patterns using RNN layers, and classify the sentiment effectively."
   ]
  }
 ],
 "metadata": {
  "kernelspec": {
   "display_name": "langchain",
   "language": "python",
   "name": "python3"
  },
  "language_info": {
   "name": "python",
   "version": "3.9.20"
  }
 },
 "nbformat": 4,
 "nbformat_minor": 2
}
