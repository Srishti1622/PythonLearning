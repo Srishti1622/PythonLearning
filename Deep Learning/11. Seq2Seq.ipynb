{
 "cells": [
  {
   "cell_type": "markdown",
   "id": "7e4281a9",
   "metadata": {},
   "source": [
    "As we known the types of RNN will be having \"Many-to-Many RNN\" which means both the input as well as the output will be \"Sequences\" and we call it as **\"Sequence-to-Sequence\"**\n",
    "\n",
    "Ex: Language Translation, Chatbot suggestion response\n",
    "\n",
    "To solve this type of usecase where both input and output are sequence data, we can not use simple RNN or LSTM RNN or GRU RNN or Biredirectional RNN as it will not give good accuracy\n",
    "\n",
    "considering this will be learning new architecture called as **\"Encoder and Decoder\"**"
   ]
  }
 ],
 "metadata": {
  "language_info": {
   "name": "python"
  }
 },
 "nbformat": 4,
 "nbformat_minor": 5
}
