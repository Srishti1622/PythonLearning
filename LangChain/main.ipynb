{
 "cells": [
  {
   "cell_type": "markdown",
   "metadata": {},
   "source": [
    "**ipylernel** -> It provides a IPython kernel for Jupyter notebook.\n",
    "**python-dotenv** -> It reads key-value pairs from a .env file and can set then as an environment variables."
   ]
  }
 ],
 "metadata": {
  "language_info": {
   "name": "python"
  }
 },
 "nbformat": 4,
 "nbformat_minor": 2
}
