{
 "cells": [
  {
   "cell_type": "markdown",
   "metadata": {},
   "source": [
    "Reference: https://python.langchain.com/docs/tutorials/summarization/\n",
    "\n",
    "### Text-Summarization\n",
    "There are three way in langchain using which we can do text summarization\n",
    "- **Stuff:** which simply concatenates documents into a prompt\n",
    "- **Map-reduce:** which splits documents into batches, summarizes those and then summarizes the summaries\n",
    "- **Refine:** which updates a rolling summary be iterating over the documents in a sequence"
   ]
  },
  {
   "cell_type": "code",
   "execution_count": 1,
   "metadata": {},
   "outputs": [],
   "source": [
    "import os\n",
    "from dotenv import load_dotenv\n",
    "from langchain_groq import ChatGroq\n",
    "\n",
    "load_dotenv()\n",
    "\n",
    "os.environ[\"GROQ_API_KEY\"]=os.getenv(\"GROQ_API_KEY\")\n",
    "\n",
    "groq_llm=ChatGroq(model=\"Gemma-7b-It\")"
   ]
  },
  {
   "cell_type": "code",
   "execution_count": 5,
   "metadata": {},
   "outputs": [],
   "source": [
    "# long speech on techer's day\n",
    "speech=\"\"\"\n",
    "Good Morning! Honorable Principal sir, director sir, teachers, chief guests, and my dear friends. I am Jagdish Rathor and I study in class 10th. It’s an honour and a huge pleasure for me to be standing here today. On this special occasion, I want to say few words on behalf of our respected teachers, who are thought of as the backbone of our society. Today is Teacher’s Day, which is a celebration of Dr. Sarvepalli Radhakrishnan’s birthday. He was one of the best teachers our nation has ever had. He was also India’s second president. Dr. Radhakrishnan told that it would be a great honor for him if they didn’t celebrate his birthday on September 5 but instead made it Teachers’ Day. This really shows how much he cared about teaching and how much he wanted to honor all teachers.\n",
    "We all know that the word “teacher” is hard to describe. It’s not easy to be a teacher, because they have to teach students all day without sitting down, figuring out their strengths and weaknesses, and then work on them in the right way. Teachers don’t just shape the lives of the students they teach, but also the lives of the whole generation. Teaching is more than just a good job. It’s also one of the greatest contributions to mankind. A teacher is an intellectual and spiritual guide, and they help their students so that they can spread their wings and fly. They give us the strength to get through life’s hard times. They help us turn our raw potential into beautiful realities. They plant the seeds of knowledge, grow our skills, and give us the power to become the best versions of ourselves. In addition to giving us knowledge, teachers also teach us essential values and qualities that shape us. They teach us how important it is to be honest and have ethics, to respect others, and to never give up. They make us want to dream big, follow our interests, and keep going even when things get hard.\n",
    "Teacher’s Day is a good time to tell our teachers how much we appreciate them and how important they are to us. Without them, our lives would be useless. As we celebrate Teachers’ Day today, let’s thank the teachers who have made a difference in our lives. Let’s appreciate the pleasure of remembering how hard they worked to make their lessons interesting, how patiently they answered all of our questions, and how much they cared about us when we needed it the most. I bow my head and thank them from the bottom of my heart, now and always. Have a happy teacher’s day! Last but not least, I’d like to end my speech with a quote from Dr. APJ Abdul Kalam: “The goal of education is to make good people who are skilled and knowledgeable. Teachers can help people become more enlightened.” Thank you to all of my teachers, who have always shown us the way and been there for us.\n",
    "\"\"\""
   ]
  },
  {
   "cell_type": "markdown",
   "metadata": {},
   "source": [
    "#### 1st way of summarizing the text"
   ]
  },
  {
   "cell_type": "code",
   "execution_count": 13,
   "metadata": {},
   "outputs": [
    {
     "name": "stdout",
     "output_type": "stream",
     "text": [
      "639\n",
      "content=\"**Summary:**\\n\\nTeacher's Day is celebrated to honor the invaluable contributions of educators. The speaker expresses deep appreciation for the guidance and inspiration provided by teachers. They highlight the selfless dedication of teachers who not only impart knowledge but also shape the values and character of their students. The speech reminds us of the profound impact teachers have on shaping lives and encouraging personal growth.\" additional_kwargs={} response_metadata={'token_usage': {'completion_tokens': 74, 'prompt_tokens': 647, 'total_tokens': 721, 'completion_time': 0.087323068, 'prompt_time': 0.431433172, 'queue_time': 0.003164075000000044, 'total_time': 0.51875624}, 'model_name': 'Gemma-7b-It', 'system_fingerprint': 'fp_7d8efeb0b1', 'finish_reason': 'stop', 'logprobs': None} id='run-7642172e-2811-4642-99a9-a227999b15c8-0' usage_metadata={'input_tokens': 647, 'output_tokens': 74, 'total_tokens': 721}\n"
     ]
    }
   ],
   "source": [
    "from langchain.schema import ( AIMessage, HumanMessage, SystemMessage)\n",
    "\n",
    "prompt=[\n",
    "    SystemMessage(content=\"You are an expert with experise in summarizing speeched\"),\n",
    "    HumanMessage(content=f\"Please provide a short and concise summary of following speech:\\n Text-{speech}\")\n",
    "]\n",
    "\n",
    "print(groq_llm.get_num_tokens(speech))\n",
    "\n",
    "# by directly passing the prompt to llm call\n",
    "groq_llm(prompt).content\n",
    "print(groq_llm(prompt))"
   ]
  }
 ],
 "metadata": {
  "kernelspec": {
   "display_name": "langchain",
   "language": "python",
   "name": "python3"
  },
  "language_info": {
   "codemirror_mode": {
    "name": "ipython",
    "version": 3
   },
   "file_extension": ".py",
   "mimetype": "text/x-python",
   "name": "python",
   "nbconvert_exporter": "python",
   "pygments_lexer": "ipython3",
   "version": "3.9.20"
  }
 },
 "nbformat": 4,
 "nbformat_minor": 2
}
