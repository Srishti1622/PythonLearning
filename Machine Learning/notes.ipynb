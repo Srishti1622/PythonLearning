{
 "cells": [
  {
   "cell_type": "markdown",
   "metadata": {},
   "source": [
    "### What is Machine Learning?\n",
    "Machine Learning is set of techniques to make computers better at doing things that humans (traditionally) can do better then machines. Machine Learning involves making machines learn things like humans do.\n",
    "\n",
    "**Real Life examples**\n",
    "- spam filter\n",
    "- amazon alexa, google home\n",
    "- recommendation systems\n",
    "- driverless cars"
   ]
  },
  {
   "attachments": {
    "image.png": {
     "image/png": "[encoded data removed]"
    }
   },
   "cell_type": "markdown",
   "metadata": {},
   "source": [
    "### AI vs ML vs DL\n",
    "\n",
    "![image.png](attachment:image.png)\n",
    "\n",
    "AI: To create an application which can perform its own task without any human intervention.\n",
    "\n",
    "ML: It provides stats tools to analyze, visualize, predict, forecast the specific data.\n",
    "\n",
    "DL: Mimic the human brain, we really want to machine learn how a human learn things. In deep learning we implemented Multi-Layered Neural Network, and with the help of this, we were able to make the application learn like how we human being learn specific things."
   ]
  },
  {
   "cell_type": "markdown",
   "metadata": {},
   "source": [
    "### 3 types of Machine Learning Techniques\n",
    "- Supervised ML\n",
    "- Unsupervised ML\n",
    "- Reinforcement Learning"
   ]
  },
  {
   "cell_type": "markdown",
   "metadata": {},
   "source": [
    "### Supervised ML Technique\n",
    "- There are two types of problem statements:\n",
    "    - Regression\n",
    "    - Classification\n",
    "        - Binary Classification\n",
    "        - Multiclass Classification\n",
    "- In supervised ml, there should be a dependent or output feature present in the dataset.\n",
    "- If the values of dependent or output feature is continuous then it will be Regression\n",
    "    - Ex: Predict house price, suppose in dataset will have \"size of house\", \"number of rooms\" and \"price\", here 'price' is dependent or output feature\n",
    "- If the values of dependent or output feature is categorical like pass/fail/maybe, head/tail then it will be Classification\n",
    "    - Ex: Predict student result, suppose in dataset will have 'number of hours study', 'number od hours play' and 'result', here 'result' is dependent or output feature"
   ]
  }
 ],
 "metadata": {
  "language_info": {
   "name": "python"
  }
 },
 "nbformat": 4,
 "nbformat_minor": 2
}
