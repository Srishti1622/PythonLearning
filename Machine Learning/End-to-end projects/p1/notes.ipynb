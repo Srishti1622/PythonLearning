{
 "cells": [
  {
   "cell_type": "markdown",
   "id": "fcef25c3",
   "metadata": {},
   "source": [
    "Setup the github repo\n",
    "- new environment\n",
    "- setup.py\n",
    "    - it is responsible in creating the ml application as a package and will be deplying it in python pypi so that anyone can install and use it\n",
    "    - if we want that build any folder as a package so it is mandatory to have \"__init__.py\" file inside that folder so as we are using find_packages() which will automatically go and search each folder having __init__.py file and build those folders as a package and once the package is created we can install and import it anywhere\n",
    "- requirements.txt\n",
    "- have .gitignore file"
   ]
  }
 ],
 "metadata": {
  "language_info": {
   "name": "python"
  }
 },
 "nbformat": 4,
 "nbformat_minor": 5
}
