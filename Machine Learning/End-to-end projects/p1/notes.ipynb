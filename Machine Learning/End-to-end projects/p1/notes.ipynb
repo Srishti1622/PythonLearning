{
 "cells": [
  {
   "cell_type": "markdown",
   "id": "fcef25c3",
   "metadata": {},
   "source": [
    "Step1: Setup the github repo\n",
    "- new environment\n",
    "- setup.py\n",
    "    - it is responsible in creating the ml application as a package and will be deplying it in python pypi so that anyone can install and use it\n",
    "    - if we want that build any folder as a package so it is mandatory to have \"__init__.py\" file inside that folder so as we are using find_packages() which will automatically go and search each folder having __init__.py file and build those folders as a package and once the package is created we can install and import it anywhere\n",
    "    - we can either directly install the setup.py or whenever i am trying to install the libraries in requirements.txt at that time the setup.py file should also gets run\n",
    "        - so for enabling that after listing all the libraries at last add \"-e .\" which will automatically trigger setup.py file which will create the package\n",
    "        - we can deploy that package in pypi and anyone can install and use it\n",
    "- requirements.txt\n",
    "- have .gitignore file\n",
    "- src folder and build the package\n",
    "    - that package folder name will be \"mlproject.egg-info\" by default\n",
    "    - entire project code will come under src folder"
   ]
  },
  {
   "cell_type": "markdown",
   "id": "906dd06f",
   "metadata": {},
   "source": [
    "Step2: code for custom exception handling anywhere in the code base\n",
    "\n",
    "Step3: code for logging the info logs for tracking purpose"
   ]
  }
 ],
 "metadata": {
  "language_info": {
   "name": "python"
  }
 },
 "nbformat": 4,
 "nbformat_minor": 5
}
