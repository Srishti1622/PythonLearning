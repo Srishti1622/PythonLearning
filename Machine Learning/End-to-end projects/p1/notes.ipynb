{
 "cells": [
  {
   "cell_type": "markdown",
   "id": "fcef25c3",
   "metadata": {},
   "source": [
    "Setup the github repo\n",
    "- new environment\n",
    "- setup.py -> it is responsible in creating the ml application as a package and will be deplying it in python pypi so that anyone can install and use it\n",
    "- requirements.txt\n",
    "- have .gitignore file"
   ]
  }
 ],
 "metadata": {
  "language_info": {
   "name": "python"
  }
 },
 "nbformat": 4,
 "nbformat_minor": 5
}
