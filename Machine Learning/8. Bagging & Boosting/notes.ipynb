{
 "cells": [
  {
   "cell_type": "markdown",
   "metadata": {},
   "source": [
    "## Ensemble Technique: Bagging and Boosting\n",
    "- Ensemble Techniques helps us to combine multiple machine learning algorithms together, train them and finally we will get some output\n",
    "- When we are combining multiple algorithms, there is good chances that will get good accuracy\n",
    "- **Bagging:**\n",
    "    - Random Forest Algorithm\n",
    "- **Boosting:**\n",
    "    - AdaBoost Algorithm\n",
    "    - Gradient Boosting Algorithm\n",
    "    - Extreme Gradient Boost (Xgboost) Algorithm"
   ]
  }
 ],
 "metadata": {
  "language_info": {
   "name": "python"
  }
 },
 "nbformat": 4,
 "nbformat_minor": 2
}
