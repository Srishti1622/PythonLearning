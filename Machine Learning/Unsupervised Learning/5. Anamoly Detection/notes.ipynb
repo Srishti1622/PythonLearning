{
 "cells": [
  {
   "cell_type": "markdown",
   "metadata": {},
   "source": [
    "## Anamoly Detection\n",
    "- It is basically to detect the outliers\n",
    "- In some cases, where the outliers plays an important role in the dataset, like in a dataset outlier is having cancer so that outlier is important, in such cases we use Anamoly Detection\n",
    "- The outlier detected by using Anamoly detection will play a very important role"
   ]
  }
 ],
 "metadata": {
  "language_info": {
   "name": "python"
  }
 },
 "nbformat": 4,
 "nbformat_minor": 2
}
