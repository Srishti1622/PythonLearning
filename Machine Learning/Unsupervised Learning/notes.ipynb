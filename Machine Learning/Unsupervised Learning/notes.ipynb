{
 "cells": [
  {
   "cell_type": "markdown",
   "metadata": {},
   "source": [
    "as we have seen in supervised machine learning algorithms, in dataset will be having input and output features, based on input features will predict the output feature, and will be solving two types of problems: classification and regression"
   ]
  },
  {
   "cell_type": "markdown",
   "metadata": {},
   "source": [
    "## Unsupervised Machine Learning Algorithm\n",
    "- model is trained on **unlabeled data**\n",
    "- we will solving the problem using : **\"Clustering\"**\n",
    "- means grouping the data into similar clusters\n",
    "- in the dataset, our aim to group or cluster them together based on similarity"
   ]
  },
  {
   "cell_type": "markdown",
   "metadata": {},
   "source": [
    "### UseCase: Customer Segmentation\n",
    "- suppose you own a product and for that product you will be having the data like spending-score of customer, their salary and so on\n",
    "- so when we bring new product in the market, by seen the data of old product will group them who are the customer going to buy the new product and so on"
   ]
  },
  {
   "cell_type": "markdown",
   "metadata": {},
   "source": [
    "### Different Unsupervised Learning Algorithms\n",
    "- K Means Clustering Algorithm\n",
    "- Hierarical Clustering\n",
    "- DBSCAN Clustering\n",
    "- Silhoutte Clustering Scoring - to validate the above three algorithms"
   ]
  },
  {
   "cell_type": "markdown",
   "metadata": {},
   "source": [
    "### Limitations \n",
    "- harder to evaluate (no ground truth labels)\n",
    "- risk of discovering spurious patterns\n",
    "- hyperparameter tuning (eg. number of clusters K) can be non-trivial\n",
    "- may not always produce innterpretable results"
   ]
  }
 ],
 "metadata": {
  "language_info": {
   "name": "python"
  }
 },
 "nbformat": 4,
 "nbformat_minor": 2
}
